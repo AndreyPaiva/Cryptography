{
 "cells": [
  {
   "cell_type": "code",
   "execution_count": 20,
   "metadata": {},
   "outputs": [],
   "source": [
    "from Crypto.PublicKey import RSA\n",
    "from Crypto.Cipher import PKCS1_OAEP"
   ]
  },
  {
   "attachments": {},
   "cell_type": "markdown",
   "metadata": {},
   "source": [
    "<Font size = 4>Inicialização do servidor"
   ]
  },
  {
   "cell_type": "code",
   "execution_count": 29,
   "metadata": {},
   "outputs": [],
   "source": [
    "class Usuario:\n",
    "    key = RSA.generate(2048)\n",
    "    def __init__(self, nome, chave_privada = key, chave_publica = key.publickey()):\n",
    "        self.nome = nome\n",
    "        self.chave_privada = chave_privada\n",
    "        self.chave_publica = chave_publica\n",
    "        with open('{}.pem'.format(nome), 'wb') as keys:\n",
    "            keys.write(chave_publica.export_key())\n",
    "\n",
    "class Servidor:\n",
    "    def __init__(self):\n",
    "        pass\n",
    "\n",
    "    def registro(a, nome, senha):\n",
    "        with open('database.txt', 'r') as data:\n",
    "            database = data.readlines()\n",
    "            for usuario in database:\n",
    "                if nome in usuario:\n",
    "                    return 'Este usuário ou esta senha já foram cadastrados.'\n",
    "                elif senha in usuario:\n",
    "                    return 'Este usuário ou esta senha já foram cadastrados.'\n",
    "            with open('database.txt', 'a') as data:\n",
    "                data.write('{} - \"{}\"\\n'.format(nome, senha))\n",
    "        \n",
    "\n",
    "    def login(a, nome, senha):\n",
    "        with open('database.txt', 'r') as data:\n",
    "            database = data.readlines()\n",
    "            for usuario in database:\n",
    "                if '{} - \"{}\"'.format(nome, senha) in usuario:\n",
    "                    return 'Acesso permitido. Bem vindo(a), {}.'.format(nome)\n",
    "        return 'Acesso negado.'\n",
    "    \n",
    "\n",
    "server = Servidor()"
   ]
  },
  {
   "attachments": {},
   "cell_type": "markdown",
   "metadata": {},
   "source": [
    "<font size = 4>Registro dos usuarios"
   ]
  },
  {
   "cell_type": "code",
   "execution_count": 22,
   "metadata": {},
   "outputs": [
    {
     "data": {
      "text/plain": [
       "'Este usuário ou esta senha já foram cadastrados.'"
      ]
     },
     "execution_count": 22,
     "metadata": {},
     "output_type": "execute_result"
    }
   ],
   "source": [
    "server.registro(\"Andrey\", \"senha1\")\n",
    "server.registro(\"Icaro\", \"senha2\")\n",
    "server.registro(\"Leocarlos\", \"senha3\")\n",
    "server.registro(\"Igor\", \"senha4\")\n",
    "server.registro(\"José Roberto\", \"senha5\")\n",
    "server.registro(\"Vitor\", \"senha6\")\n",
    "server.registro(\"Joseane\", \"senha7\")"
   ]
  },
  {
   "attachments": {},
   "cell_type": "markdown",
   "metadata": {},
   "source": [
    "<font size = 4>Login dos usuários"
   ]
  },
  {
   "cell_type": "code",
   "execution_count": 23,
   "metadata": {},
   "outputs": [
    {
     "data": {
      "text/plain": [
       "'Acesso permitido. Bem vindo(a), Joseane.'"
      ]
     },
     "execution_count": 23,
     "metadata": {},
     "output_type": "execute_result"
    }
   ],
   "source": [
    "server.login(\"Andrey\", \"senha1\")\n",
    "server.login(\"Icaro\", \"senha2\")\n",
    "server.login(\"Leocarlos\", \"senha3\")\n",
    "server.login(\"Igor\", \"senha4\")\n",
    "server.login(\"José Roberto\", \"senha5\")\n",
    "server.login(\"Vitor\", \"senha6\")\n",
    "server.login(\"Joseane\", \"senha7\")"
   ]
  },
  {
   "attachments": {},
   "cell_type": "markdown",
   "metadata": {},
   "source": [
    "<font size = 4>Definição dos usuários do grupo de conversa"
   ]
  },
  {
   "cell_type": "code",
   "execution_count": 24,
   "metadata": {},
   "outputs": [],
   "source": [
    "andrey = Usuario(\"Andrey\")\n",
    "icaro = Usuario(\"Icaro\")\n",
    "leocarlos = Usuario(\"Leocarlos\")\n",
    "igor = Usuario(\"Igor\")\n",
    "zeroberto = Usuario(\"José Roberto\")\n",
    "vitor = Usuario(\"Vitor\")\n",
    "joseane = Usuario(\"Joseane\")"
   ]
  },
  {
   "attachments": {},
   "cell_type": "markdown",
   "metadata": {},
   "source": [
    "<font size = 4> Encriptação das mensagens"
   ]
  },
  {
   "cell_type": "code",
   "execution_count": 25,
   "metadata": {},
   "outputs": [
    {
     "name": "stdout",
     "output_type": "stream",
     "text": [
      "Mensagem encriptada recebida por Andrey: b\"\\x12\\x9d\\xc67\\xa7\\x1d\\x9bi\\xf2\\x91<\\x9e\\xaf\\xdfI\\xeb\\x0cnq\\x12\\x8f\\xb8\\x9f\\xe9\\xaeUv\\xefWO'\\xe7D\\xb2`\\x0b!1)\\x9b\\r}\\x89;\\t[\\xc0\\x1a\\xc2*\\xf9\\xc3?\\xd0\\xde\\x15\\xa6\\xabO\\xc7\\xd6|\\xf3\\xf74d\\xe3\\x0f\\x10\\x8d\\x1d\\xad\\x93\\xc6C\\xd4\\x017\\xef\\x81\\xe8)q\\xb5B\\x12\\xb1\\x9e\\t\\xb7\\xb6\\xe3T\\xf3\\xaf_\\xd7\\x1bB\\x84\\xb3\\xed\\xe6\\x98c\\xae\\x9bW\\xed\\x81\\xc9\\xce\\xa4\\xb6Pv\\xa4\\x80\\x8a\\xb3.\\x9a\\xca\\x18\\xdcp.\\xe8\\x89\\xef\\x07u\\xc9~\\xd6,7A\\xe8\\xa8}M\\x14\\xa32\\x1b$'*\\xb7\\x1b\\xbd\\x81\\xa3\\x06\\xc7\\xef\\xf3\\x89\\xfb\\xdd\\x17\\xef\\xde\\xa3z\\x07'\\xe9elP\\xfa7[\\x11&\\xb9)\\xa8\\x98\\xd4\\x1a\\xfc\\xa1<5.h\\xf6\\xa3~x9\\xd4\\x83I\\x8b\\x16\\xa4\\xfec=y\\xe9,@d\\x89\\x9e^\\x9c\\t \\xf3\\x10Q}\\xbf\\xdeY\\xc0RI\\x1b#-\\xd8i9\\xce\\xd7dk\\xd7h[\\xe27\\xf98\\x04Rj\\xeb\\xa8T\\x7fog\\xbaP\\xabI\\x1c+\"\n",
      "Mensagem encriptada recebida por Icaro: b\"&\\xc39%k\\x0c\\xa5\\x8e\\x94\\xfb\\xe6}\\xaa\\xfa\\x9a\\xb9\\x10\\x8bV\\xc6-\\x0f\\xb4\\xe5u\\xe3\\xb6\\xba\\x1d\\x06\\x9e\\x8e\\x03\\xb6\\x0b\\xe6\\xfa\\xcc\\x02\\x04[d\\xe3\\x14\\x90\\xc4s\\x95&\\xa6\\xfa\\t\\x05\\xa1\\xeb\\xed\\x83\\x7f\\xb8\\n\\x13\\xf7\\xf8D\\xf2v\\xf9\\xbb\\xbf\\xc5\\x06s\\x9e\\xdd\\x1e\\xc5ws!\\xa6\\xf99\\xbd\\xca\\x81)\\xb2\\xee\\xb6^\\x90a\\xcb\\xc4~.\\xc4\\xcb\\xc2\\xa1O\\x04\\xc1\\x87\\xdf6\\xa5\\xb9\\xc1T\\xf3\\xc5\\x1aX\\xd1\\xb8}\\xc1\\x9f\\x7f\\xdd\\x86\\xba\\x15\\xf8\\xab\\xc4\\x18#u\\xb8\\xa6\\xc0\\xc4\\x1f,8\\xbeGS\\x06'Q\\xa4\\x05\\x89\\x03\\t\\x90\\xdb\\xa3\\xfeh\\x98g\\x0b\\x1dF\\x0b\\x90'\\xa1\\xfbFs\\xb2`\\xd0\\xe5\\x0fii\\xad\\xd5_\\x8a\\x0f\\x88o-\\x16\\xcf\\x00\\xf8#V5_;\\xd6\\x1a\\xe1\\xc8\\r\\xb2\\x020P\\xad\\x92\\xf5\\x83{\\xdd5\\x9c\\x03\\xaf\\xb3N\\n\\xfd\\xebIc\\xa7\\xfe\\xe3\\xff\\xb5\\xd1\\xabC\\x17\\xd5\\x7fp\\x9c\\xe3|\\x06\\xc5\\xfe1\\xf4L\\xd9}\\xc1h\\xafg\\xd6j\\x19!f\\xd5\\xc0)\\xb7\\x11\\xf2\\x86\\xfb\\x04\"\n",
      "Mensagem encriptada recebida por Leocarlos: b'\\xbe\\x90\\xa6\\xa7yty\\xd59ig){-\\xc1\\xb6\\xb5\\x99\\x85\\xd7K\\xab\\x97(=Ue\\x1b\\xce\\x0e\\x8dQ#\\xf3\\x83\\x14e\\xa7B\\xdc tK\\xfc\\xd8\\xb0\\x8e\\x9a\\xb5o\\xf3\\x0f\\x19`\\xc1\\\\\\x89QG\\x9c\\xa2v\\xbb\\x13\\xcbb,\\x1ch\\x84\\x7fC\\x92\\xafMXi\\x03\\xde|w\\xbf\\x03\\xc7\\xc0\\xc1\\x0c\\xa4\\xed\\x01\\xb1#\\x96\\xeem$\\xd9\\x07\\x93?C\\xff\\xc7\\xac\\xde\\x15Wd\\xae\\x03\\xa7A\\xf1\\xf1\\x1dm-\\xe6#\\x0c\\xab\\xee\\xcd\\xe3.\\xf9\\xb3\\x97$\\xff\\xfa~ N\\x9b\\xa6\\xf9/`$\\x89f\\xc7\\xde\\xac\\xf60\\x8fA\\x994\\x13\\xe6\\xd2\\x05\\xd0\\xd1\\xa5\\x9b\\xcd\\xc7\\xeb\\x85}Z\\x82\\xcd+j\\nQ\\xd7\\xa2\\xb6\\xdf~\\xd4kmO\\x1d\\xa1[@t\\x84\\x9a\\xbd\\x81\\x14\\x1df\\xebZlU\\xd9\\x91L\\x99?#Y\\xe2\\t\\xf0\\xb7\\x95\\xa6\\x7f\\x9e\\xbb\\xb6\\xc3\\xc2\\xfb\\xed\\xedc\\x05:\\xa5JGS\\xe3\\xc0\\xd8\\xef\\xe1\\xd7o\\xa9\\xe8Ucfy<\\xd8\\xa8g\\xeb\\xb14A+\\xc9he\\xedZ\\xd1\\x98Y\\x9c'\n",
      "Mensagem encriptada recebida por Igor: b'b&ff\\xa4\\xa0)\\xf7h\\xb1\\x01\\x14\\xdc\\x97l\\x1b\\xb6\\xf1\\x10\\xba5\\xf2/\\xfaKD\\xf2\\x7f{\\xeaW\\xab5S6\\x8c@`\\xbf\\x88\\xb1U\\xf6\\x1d)\\xb0\\xea=\\x864kE\\xd5[\\xc1\\n\\x18\\xb4Z\\x19\\x1d\\x1a\\xac7\\xd29\\xf4\\x82\\x89J\\xc1\\xc8\\x9d\\xd8\\t\\xc3w\\x8f\\xc8\\xea#\\n\\xf2u\\x07\\xfb\\xc2t\\x10\\xfc\\xee\\x9f\\x96{\\x0f\\xd8\\xab\\xf6(V\\xedm\\x9b\\x96$v\\x9f3\\x8d\\x10\\xc1\\xd3\\xe0\\xd8\\x87>\\xc3\\xefTE\\xb0\\x1f\\xf9KLq\\xc0\\x12\\xe4\\xc10\\x10\\xacM\\xb6R\\xca\\x00i\\xab\\xd1h\\x01\\xc0\\x0eM\\xe2%\\x1d\\x1f\\x9fK\\xc9&\\xc3y\\xb5\\xc3\\x1a\\x0c\\x125\\xa7\\xd5\\x97\\xe08\\x8f.H\\xd4\\x18\\xb3F\\xa4\\xb1\\xc3\\r\\xc9\\xce\\xa2\\xf1\\xb5Xr\\x83\\x98\\xdag\\xddkS\\xd8^f\\x9b;\\x91Q\\xb1\\r\\x7f\\x0c\\xe8F\\xd7\\xddwi\\xa5Z9g\\xd2\\x1c\\xa3\\xeai\\xe7j\\xc2\\x16W\\x1b\\x1f\\xf8\\xfa\\x05\\x13\\xc1Y\\xb1\\xb7\\x04\\x84d\\x1f\\x04O;t\\x9ad\\xb9\\x12\\xa0\\xa6o\\x07\\xf5\\xc6\\x89&/\\xc3\\xfa'\n",
      "Mensagem encriptada recebida por José Roberto: b'I\\tl\\xd1\\xf0l\\x1eJ\\xa9\\xe6\\xea\\xeb@\\xc2\\x94\\x08q\\\\S\\xa5\\x061n\\xf3X\\x99\\x07\\xd6\\xa4\\x17U\\x06Yd^\\xbb\\x1fQUk3x\\xcc/\\xa936xHVA\\xc8X\\x98\\xf6\\x0e\\x0eS\\x9e$\\x98\\xb5v\\x18\\xef\\xe6\\x8a)\\xa3\\xfe\\xc0\\xbc\\r\\x1cl\\x97\\x07b,\\xbb\\xfb\\xcaYO=$2\\x17\\xc4\\xb3\\xb0\\x92\\x89\\xfe\\xdc\\xf3]\\xb9\\x88=\\xbf|\\x08c\\x81?\\xd43Z+\\xd5\\xbc\\x1f\\x8d3\\xf5\\xee\\x0c\\x84\\xb2>\\xffl\\nQ\\x07\\x02\\xec\\xd8<9\\xf5\\x92\\xcdg\\x87*\\xe6]\\x1f[\\xd4\\xb0\\x9fI\\xcdOJv6QU\\x9f\\x0b\\xd1\\xdb\\xd7f\\xa6\\xe2\\x13\\xf1\\x86!\\x18Kp\\xe9\\xd9j\\xb2\\xd0\\xd1-!#\\x0e\\x1a\\x9cu\\x17F\\'\\x87\\x88\\xb3\\xa1k\\x87Srq\\xd7#\\x04[\\xae\\xa3h\\xeb\\xd57\\x84\\xb1\\xf2W\"H\\x82k\\x7f.\\t\\xe5\\x0b\\xd2a\\x88b\\x83\\x07\\xcc\\x93+:\\xd5%\\xe5\\xa7$\\xafv\\x9f=\\xe7\\xd6\\xf5\\xf1\\x14y\\xb8\\xec)\\xdd\\xea\\xed0\\x96~\\xb2~\\x0fq\\n\\\\C'\n",
      "Mensagem encriptada recebida por Vitor: b'\\xb3\\x83P\\xd50\\xe4q\\xcd4\\xab\\r\\x99\\x8di<\\x12\\xa0\\xf8\\xf7A\\x1b\\xef/\\xffZC\\'t\\xe7\\xfe\\xff\\xa2\\x1as\\xab\\xd0N:\\xe8\\xf3\\'\\xcf\\r\\'\\x13\\xc6\\x06?\\xda\\x85E\\xfc\\xa7\\xd8\\x13_\\xf41w\\x81\\x08QK\\xfb\\xc8Gk\\x04WJ\\xca\\x9e=\\xb4\\xaf\\xbeI\\x93QO~\\xd5\\xfa\\xf4N\\xael\\x80\\xee\\xae?T\\x11\\x9bn\\x89\\x96\\xf2l\\r\\xba*\\x19-\"P\\x17v\\xd0\\xab\\x07mi\\xb8\\xe0Z\\xe3\\x9c\\x0e{\\x81\\x12Ck4\\xb1.\\'%a\\x94\\x007\\xf0\\xf3\\x89\\xea{<\\xc8NH\\x1db.\\x86eR\\x1a\\x89\\xe8qT\\xee\\x9e\\x04\\xdf\\x0eZ\\xbb\\x97dz+\\x10\\xca\\xdd\\x01u\\xb3\\r\\xb8T\\xb9\\xb5\\xccK\\x0b\\x807\\xa9({\\xb4!\"\\x12[~\\xca|\\xfcK\\xfb\\xde~\\x04\\xe8\\xf9s\\t\\x82j\\xb0\\xc7E\\xc1\\x16s5\\xe2)A\\xb4\\x87\\xba\\x1c],\\xd9^\\xb2\\x9b\\xd2\\x9f\\xbb\\xc8J\\xe3O\\xb89\\xa3#T\\xc2\\x8fu\\x91\\x14\\xa7\\x03\\xa82\\xdb\\x85\\x12\\xf5\\xa7>\\x1b&v\\xd6\\x0e\\xf0'\n",
      "Mensagem encriptada recebida por Joseane: b\"\\x90\\xf0\\x08\\x8bN \\xcd\\x14\\xf3\\xf3^/\\x9anu\\xd0u\\xe1\\x10\\x93\\x9ff\\xc3\\x91\\xfe'\\x8b\\xe3\\x82\\xb7\\xbfi\\xe8\\x86\\xad\\xf7?\\xc8K\\xcb\\x90\\xb8\\tjG9N\\xf6\\xfd\\xb3lC-!Z\\xd3\\xd7\\x86\\xb6\\nv\\xfe\\\\\\x04\\xfd\\xce\\xa2m\\xf8\\xb9\\xf5\\xcd\\xb5\\xbc\\x05e-\\x146\\xb5\\x19\\x13\\x84\\x1e\\xd32\\xb2\\x96\\xee\\xb3G\\xa9\\xbd\\xdb0|\\x99\\xd4\\xa8\\xa1\\xe2V\\xf7\\x83\\xebf\\xb8\\xf5\\x88\\x11\\xcdA\\xa8\\x08\\xb1\\xbf\\x0c&\\xa5\\xd8\\xa7@\\xfa\\xba7Snv\\x0b&\\xdc\\x10\\xf9\\x17X\\xbe\\x13~*W\\xf5C\\xe7E/\\xf0\\x8aO\\xea\\xcf\\xb7\\xf6\\x12\\xc1p\\x17\\x8c\\xe7}\\x19\\x1d\\xad%{\\xf3F,W\\xe2\\xb8\\t\\xd4\\x80\\xe5\\xbbP\\x91\\xa5\\x80\\x02\\x7f\\x9c]\\xb4?\\xd5iS\\xac\\x08\\xdcb\\xd9=j\\xa1\\x10\\xfbI\\xd5\\xdb\\x91\\xa8c\\x11\\x9b\\x03z\\xef\\x87+R\\xe5%\\x99m\\xfb\\xe03\\x10@\\xcc\\x86\\xda\\xa9\\x81?\\xc0\\x89\\x0e\\xf3e.Hc\\xb7ien\\xa3\\xba\\xcb\\x9e\\xde\\x0e\\x14\\x0c\\xa94\\xf1\\xc0\\xee\\xcb\\x12\\rT\"\n"
     ]
    }
   ],
   "source": [
    "mensagem = b'Apresentacao TEEE Criptografia - Difusao de mensagens anonimas.'\n",
    "\n",
    "key = RSA.importKey(open('Andrey.pem').read())\n",
    "cipher = PKCS1_OAEP.new(key)\n",
    "ciphertext_andrey = cipher.encrypt(mensagem)\n",
    "print(\"Mensagem encriptada recebida por Andrey: {}\".format(ciphertext_andrey))\n",
    "\n",
    "key = RSA.importKey(open('Icaro.pem').read())\n",
    "cipher = PKCS1_OAEP.new(key)\n",
    "ciphertext_icaro = cipher.encrypt(mensagem)\n",
    "print(\"Mensagem encriptada recebida por Icaro: {}\".format(ciphertext_icaro))\n",
    "\n",
    "key = RSA.importKey(open('Leocarlos.pem').read())\n",
    "cipher = PKCS1_OAEP.new(key)\n",
    "ciphertext_leocarlos = cipher.encrypt(mensagem)\n",
    "print(\"Mensagem encriptada recebida por Leocarlos: {}\".format(ciphertext_leocarlos))\n",
    "\n",
    "key = RSA.importKey(open('Igor.pem').read())\n",
    "cipher = PKCS1_OAEP.new(key)\n",
    "ciphertext_igor = cipher.encrypt(mensagem)\n",
    "print(\"Mensagem encriptada recebida por Igor: {}\".format(ciphertext_igor))\n",
    "\n",
    "key = RSA.importKey(open('José Roberto.pem').read())\n",
    "cipher = PKCS1_OAEP.new(key)\n",
    "ciphertext_zeroberto = cipher.encrypt(mensagem)\n",
    "print(\"Mensagem encriptada recebida por José Roberto: {}\".format(ciphertext_zeroberto))\n",
    "\n",
    "key = RSA.importKey(open('Vitor.pem').read())\n",
    "cipher = PKCS1_OAEP.new(key)\n",
    "ciphertext_vitor = cipher.encrypt(mensagem)\n",
    "print(\"Mensagem encriptada recebida por Vitor: {}\".format(ciphertext_vitor))\n",
    "\n",
    "key = RSA.importKey(open('Joseane.pem').read())\n",
    "cipher = PKCS1_OAEP.new(key)\n",
    "ciphertext_joseane = cipher.encrypt(mensagem)\n",
    "print(\"Mensagem encriptada recebida por Joseane: {}\".format(ciphertext_joseane))"
   ]
  },
  {
   "attachments": {},
   "cell_type": "markdown",
   "metadata": {},
   "source": [
    "<font size = 4>Decriptação das mensagens"
   ]
  },
  {
   "cell_type": "code",
   "execution_count": 27,
   "metadata": {},
   "outputs": [
    {
     "name": "stdout",
     "output_type": "stream",
     "text": [
      "Mensagem decriptada recebida por Andrey: b'Apresentacao TEEE Criptografia - Difusao de mensagens anonimas.'\n",
      "Mensagem decriptada recebida por Icaro: b'Apresentacao TEEE Criptografia - Difusao de mensagens anonimas.'\n",
      "Mensagem decriptada recebida por Leocarlos: b'Apresentacao TEEE Criptografia - Difusao de mensagens anonimas.'\n",
      "Mensagem decriptada recebida por Igor: b'Apresentacao TEEE Criptografia - Difusao de mensagens anonimas.'\n",
      "Mensagem decriptada recebida por José Roberto: b'Apresentacao TEEE Criptografia - Difusao de mensagens anonimas.'\n",
      "Mensagem decriptada recebida por Vitor: b'Apresentacao TEEE Criptografia - Difusao de mensagens anonimas.'\n",
      "Mensagem decriptada recebida por Joseane: b'Apresentacao TEEE Criptografia - Difusao de mensagens anonimas.'\n"
     ]
    }
   ],
   "source": [
    "key = andrey.chave_privada\n",
    "cipher = PKCS1_OAEP.new(key)\n",
    "decriptado_andrey = cipher.decrypt(ciphertext_andrey)\n",
    "print(\"Mensagem decriptada recebida por Andrey: {}\".format(decriptado_andrey))\n",
    "\n",
    "key = icaro.chave_privada\n",
    "cipher = PKCS1_OAEP.new(key)\n",
    "decriptado_icaro = cipher.decrypt(ciphertext_icaro)\n",
    "print(\"Mensagem decriptada recebida por Icaro: {}\".format(decriptado_icaro))\n",
    "\n",
    "key = leocarlos.chave_privada\n",
    "cipher = PKCS1_OAEP.new(key)\n",
    "decriptado_leocarlos = cipher.decrypt(ciphertext_leocarlos)\n",
    "print(\"Mensagem decriptada recebida por Leocarlos: {}\".format(decriptado_leocarlos))\n",
    "\n",
    "key = igor.chave_privada\n",
    "cipher = PKCS1_OAEP.new(key)\n",
    "decriptado_igor = cipher.decrypt(ciphertext_igor)\n",
    "print(\"Mensagem decriptada recebida por Igor: {}\".format(decriptado_igor))\n",
    "\n",
    "key = zeroberto.chave_privada\n",
    "cipher = PKCS1_OAEP.new(key)\n",
    "decriptado_zeroberto = cipher.decrypt(ciphertext_zeroberto)\n",
    "print(\"Mensagem decriptada recebida por José Roberto: {}\".format(decriptado_zeroberto))\n",
    "\n",
    "key = vitor.chave_privada\n",
    "cipher = PKCS1_OAEP.new(key)\n",
    "decriptado_vitor = cipher.decrypt(ciphertext_vitor)\n",
    "print(\"Mensagem decriptada recebida por Vitor: {}\".format(decriptado_vitor))\n",
    "\n",
    "key = joseane.chave_privada\n",
    "cipher = PKCS1_OAEP.new(key)\n",
    "decriptado_joseane = cipher.decrypt(ciphertext_joseane)\n",
    "print(\"Mensagem decriptada recebida por Joseane: {}\".format(decriptado_joseane))"
   ]
  }
 ],
 "metadata": {
  "kernelspec": {
   "display_name": "Python 3",
   "language": "python",
   "name": "python3"
  },
  "language_info": {
   "codemirror_mode": {
    "name": "ipython",
    "version": 3
   },
   "file_extension": ".py",
   "mimetype": "text/x-python",
   "name": "python",
   "nbconvert_exporter": "python",
   "pygments_lexer": "ipython3",
   "version": "3.11.4"
  },
  "orig_nbformat": 4
 },
 "nbformat": 4,
 "nbformat_minor": 2
}
